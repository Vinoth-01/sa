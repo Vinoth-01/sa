{
 "cells": [
  {
   "cell_type": "code",
   "execution_count": 1,
   "id": "2efc4b07",
   "metadata": {},
   "outputs": [
    {
     "data": {
      "text/plain": [
       "'dashboard.html'"
      ]
     },
     "execution_count": 1,
     "metadata": {},
     "output_type": "execute_result"
    }
   ],
   "source": [
    "import plotly.graph_objects as go\n",
    "import plotly.offline as pyo\n",
    "\n",
    "# Create some random data for demonstration\n",
    "x = [1, 2, 3, 4, 5]\n",
    "y1 = [1, 4, 9, 16, 25]\n",
    "y2 = [1, 8, 27, 64, 125]\n",
    "y3 = [1, 2, 3, 4, 5]\n",
    "\n",
    "# Create a bar chart\n",
    "bar_chart = go.Bar(x=x, y=y1)\n",
    "\n",
    "# Create a line chart\n",
    "line_chart = go.Scatter(x=x, y=y2, mode='lines', name='Line Chart')\n",
    "\n",
    "# Create a pie chart\n",
    "pie_chart = go.Pie(labels=x, values=y3)\n",
    "\n",
    "# Create the layout for the dashboard\n",
    "layout = go.Layout(\n",
    "    title='Dashboard with Different Charts',\n",
    "    barmode='group'  # If you want to group the bars in the bar chart\n",
    ")\n",
    "\n",
    "# Create a figure to hold the charts\n",
    "fig = go.Figure(data=[bar_chart, line_chart, pie_chart], layout=layout)\n",
    "\n",
    "# Save the figure as an HTML file\n",
    "pyo.plot(fig, filename='dashboard.html')\n"
   ]
  },
  {
   "cell_type": "code",
   "execution_count": null,
   "id": "f5dcefb8",
   "metadata": {},
   "outputs": [],
   "source": []
  }
 ],
 "metadata": {
  "kernelspec": {
   "display_name": "Python 3 (ipykernel)",
   "language": "python",
   "name": "python3"
  },
  "language_info": {
   "codemirror_mode": {
    "name": "ipython",
    "version": 3
   },
   "file_extension": ".py",
   "mimetype": "text/x-python",
   "name": "python",
   "nbconvert_exporter": "python",
   "pygments_lexer": "ipython3",
   "version": "3.9.12"
  }
 },
 "nbformat": 4,
 "nbformat_minor": 5
}
